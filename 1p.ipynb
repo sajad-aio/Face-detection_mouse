{
 "cells": [
  {
   "cell_type": "code",
   "execution_count": 1,
   "metadata": {},
   "outputs": [],
   "source": [
    "import cv2\n",
    "import matplotlib.pyplot as plt\n",
    "import pyautogui as bot\n"
   ]
  },
  {
   "cell_type": "code",
   "execution_count": 2,
   "metadata": {},
   "outputs": [],
   "source": [
    "modeleye = cv2.CascadeClassifier('eye.xml')\n",
    "\n",
    "modelface = cv2.CascadeClassifier('face.xml')"
   ]
  },
  {
   "cell_type": "code",
   "execution_count": null,
   "metadata": {},
   "outputs": [
    {
     "name": "stdout",
     "output_type": "stream",
     "text": [
      "38\n",
      "101\n",
      "33\n",
      "98\n",
      "62\n",
      "88\n",
      "58\n",
      "37\n",
      "100\n",
      "62\n",
      "37\n",
      "89\n",
      "39\n",
      "102\n",
      "65\n",
      "37\n",
      "101\n",
      "37\n",
      "102\n",
      "38\n",
      "102\n",
      "70\n",
      "39\n"
     ]
    },
    {
     "ename": "FailSafeException",
     "evalue": "PyAutoGUI fail-safe triggered from mouse moving to a corner of the screen. To disable this fail-safe, set pyautogui.FAILSAFE to False. DISABLING FAIL-SAFE IS NOT RECOMMENDED.",
     "output_type": "error",
     "traceback": [
      "\u001b[1;31m---------------------------------------------------------------------------\u001b[0m",
      "\u001b[1;31mFailSafeException\u001b[0m                         Traceback (most recent call last)",
      "Cell \u001b[1;32mIn[4], line 50\u001b[0m\n\u001b[0;32m     48\u001b[0m     color \u001b[38;5;241m=\u001b[39m red\n\u001b[0;32m     49\u001b[0m     mouse_x \u001b[38;5;241m=\u001b[39m mouse_x \u001b[38;5;241m+\u001b[39m \u001b[38;5;28mabs\u001b[39m(xf2\u001b[38;5;241m-\u001b[39m\u001b[38;5;241m450\u001b[39m)\n\u001b[1;32m---> 50\u001b[0m     \u001b[43mbot\u001b[49m\u001b[38;5;241;43m.\u001b[39;49m\u001b[43mmoveTo\u001b[49m\u001b[43m(\u001b[49m\u001b[43mmouse_x\u001b[49m\u001b[43m,\u001b[49m\u001b[43mmouse_y\u001b[49m\u001b[43m)\u001b[49m\n\u001b[0;32m     52\u001b[0m \u001b[38;5;28;01mif\u001b[39;00m yf \u001b[38;5;241m<\u001b[39m \u001b[38;5;241m180\u001b[39m:\n\u001b[0;32m     53\u001b[0m     color \u001b[38;5;241m=\u001b[39m red\n",
      "File \u001b[1;32mc:\\Users\\Sajad\\AppData\\Local\\Programs\\Python\\Python38\\lib\\site-packages\\pyautogui\\__init__.py:594\u001b[0m, in \u001b[0;36m_genericPyAutoGUIChecks.<locals>.wrapper\u001b[1;34m(*args, **kwargs)\u001b[0m\n\u001b[0;32m    591\u001b[0m \u001b[38;5;129m@functools\u001b[39m\u001b[38;5;241m.\u001b[39mwraps(wrappedFunction)\n\u001b[0;32m    592\u001b[0m \u001b[38;5;28;01mdef\u001b[39;00m \u001b[38;5;21mwrapper\u001b[39m(\u001b[38;5;241m*\u001b[39margs, \u001b[38;5;241m*\u001b[39m\u001b[38;5;241m*\u001b[39mkwargs):\n\u001b[0;32m    593\u001b[0m     failSafeCheck()\n\u001b[1;32m--> 594\u001b[0m     returnVal \u001b[38;5;241m=\u001b[39m \u001b[43mwrappedFunction\u001b[49m\u001b[43m(\u001b[49m\u001b[38;5;241;43m*\u001b[39;49m\u001b[43margs\u001b[49m\u001b[43m,\u001b[49m\u001b[43m \u001b[49m\u001b[38;5;241;43m*\u001b[39;49m\u001b[38;5;241;43m*\u001b[39;49m\u001b[43mkwargs\u001b[49m\u001b[43m)\u001b[49m\n\u001b[0;32m    595\u001b[0m     _handlePause(kwargs\u001b[38;5;241m.\u001b[39mget(\u001b[38;5;124m\"\u001b[39m\u001b[38;5;124m_pause\u001b[39m\u001b[38;5;124m\"\u001b[39m, \u001b[38;5;28;01mTrue\u001b[39;00m))\n\u001b[0;32m    596\u001b[0m     \u001b[38;5;28;01mreturn\u001b[39;00m returnVal\n",
      "File \u001b[1;32mc:\\Users\\Sajad\\AppData\\Local\\Programs\\Python\\Python38\\lib\\site-packages\\pyautogui\\__init__.py:1288\u001b[0m, in \u001b[0;36mmoveTo\u001b[1;34m(x, y, duration, tween, logScreenshot, _pause)\u001b[0m\n\u001b[0;32m   1285\u001b[0m x, y \u001b[38;5;241m=\u001b[39m _normalizeXYArgs(x, y)\n\u001b[0;32m   1287\u001b[0m _logScreenshot(logScreenshot, \u001b[38;5;124m\"\u001b[39m\u001b[38;5;124mmoveTo\u001b[39m\u001b[38;5;124m\"\u001b[39m, \u001b[38;5;124m\"\u001b[39m\u001b[38;5;132;01m%s\u001b[39;00m\u001b[38;5;124m,\u001b[39m\u001b[38;5;132;01m%s\u001b[39;00m\u001b[38;5;124m\"\u001b[39m \u001b[38;5;241m%\u001b[39m (x, y), folder\u001b[38;5;241m=\u001b[39m\u001b[38;5;124m\"\u001b[39m\u001b[38;5;124m.\u001b[39m\u001b[38;5;124m\"\u001b[39m)\n\u001b[1;32m-> 1288\u001b[0m \u001b[43m_mouseMoveDrag\u001b[49m\u001b[43m(\u001b[49m\u001b[38;5;124;43m\"\u001b[39;49m\u001b[38;5;124;43mmove\u001b[39;49m\u001b[38;5;124;43m\"\u001b[39;49m\u001b[43m,\u001b[49m\u001b[43m \u001b[49m\u001b[43mx\u001b[49m\u001b[43m,\u001b[49m\u001b[43m \u001b[49m\u001b[43my\u001b[49m\u001b[43m,\u001b[49m\u001b[43m \u001b[49m\u001b[38;5;241;43m0\u001b[39;49m\u001b[43m,\u001b[49m\u001b[43m \u001b[49m\u001b[38;5;241;43m0\u001b[39;49m\u001b[43m,\u001b[49m\u001b[43m \u001b[49m\u001b[43mduration\u001b[49m\u001b[43m,\u001b[49m\u001b[43m \u001b[49m\u001b[43mtween\u001b[49m\u001b[43m)\u001b[49m\n",
      "File \u001b[1;32mc:\\Users\\Sajad\\AppData\\Local\\Programs\\Python\\Python38\\lib\\site-packages\\pyautogui\\__init__.py:1514\u001b[0m, in \u001b[0;36m_mouseMoveDrag\u001b[1;34m(moveOrDrag, x, y, xOffset, yOffset, duration, tween, button)\u001b[0m\n\u001b[0;32m   1511\u001b[0m         \u001b[38;5;28;01mraise\u001b[39;00m \u001b[38;5;167;01mNotImplementedError\u001b[39;00m(\u001b[38;5;124m\"\u001b[39m\u001b[38;5;124mUnknown value of moveOrDrag: \u001b[39m\u001b[38;5;132;01m{0}\u001b[39;00m\u001b[38;5;124m\"\u001b[39m\u001b[38;5;241m.\u001b[39mformat(moveOrDrag))\n\u001b[0;32m   1513\u001b[0m \u001b[38;5;28;01mif\u001b[39;00m (tweenX, tweenY) \u001b[38;5;129;01mnot\u001b[39;00m \u001b[38;5;129;01min\u001b[39;00m FAILSAFE_POINTS:\n\u001b[1;32m-> 1514\u001b[0m     \u001b[43mfailSafeCheck\u001b[49m\u001b[43m(\u001b[49m\u001b[43m)\u001b[49m\n",
      "File \u001b[1;32mc:\\Users\\Sajad\\AppData\\Local\\Programs\\Python\\Python38\\lib\\site-packages\\pyautogui\\__init__.py:1734\u001b[0m, in \u001b[0;36mfailSafeCheck\u001b[1;34m()\u001b[0m\n\u001b[0;32m   1732\u001b[0m \u001b[38;5;28;01mdef\u001b[39;00m \u001b[38;5;21mfailSafeCheck\u001b[39m():\n\u001b[0;32m   1733\u001b[0m     \u001b[38;5;28;01mif\u001b[39;00m FAILSAFE \u001b[38;5;129;01mand\u001b[39;00m \u001b[38;5;28mtuple\u001b[39m(position()) \u001b[38;5;129;01min\u001b[39;00m FAILSAFE_POINTS:\n\u001b[1;32m-> 1734\u001b[0m         \u001b[38;5;28;01mraise\u001b[39;00m FailSafeException(\n\u001b[0;32m   1735\u001b[0m             \u001b[38;5;124m\"\u001b[39m\u001b[38;5;124mPyAutoGUI fail-safe triggered from mouse moving to a corner of the screen. To disable this fail-safe, set pyautogui.FAILSAFE to False. DISABLING FAIL-SAFE IS NOT RECOMMENDED.\u001b[39m\u001b[38;5;124m\"\u001b[39m\n\u001b[0;32m   1736\u001b[0m         )\n",
      "\u001b[1;31mFailSafeException\u001b[0m: PyAutoGUI fail-safe triggered from mouse moving to a corner of the screen. To disable this fail-safe, set pyautogui.FAILSAFE to False. DISABLING FAIL-SAFE IS NOT RECOMMENDED."
     ]
    },
    {
     "ename": "",
     "evalue": "",
     "output_type": "error",
     "traceback": [
      "\u001b[1;31mThe Kernel crashed while executing code in the current cell or a previous cell. \n",
      "\u001b[1;31mPlease review the code in the cell(s) to identify a possible cause of the failure. \n",
      "\u001b[1;31mClick <a href='https://aka.ms/vscodeJupyterKernelCrash'>here</a> for more info. \n",
      "\u001b[1;31mView Jupyter <a href='command:jupyter.viewOutput'>log</a> for further details."
     ]
    }
   ],
   "source": [
    "import cv2\n",
    "\n",
    "# بارگذاری مدل‌های تشخیص\n",
    "modelface = cv2.CascadeClassifier('face.xml')\n",
    "modeleye = cv2.CascadeClassifier('eye.xml')\n",
    "\n",
    "# دسترسی به دوربین\n",
    "cam = cv2.VideoCapture(0)  # دوربین پیش‌فرض سیستم\n",
    "\n",
    "loop = True\n",
    "while loop:\n",
    "    _, img = cam.read()\n",
    "    img = cv2.flip(img , 1)\n",
    "    gr = cv2.cvtColor(img, cv2.COLOR_BGR2GRAY)\n",
    "    \n",
    "    # تشخیص چهره\n",
    "    face = modelface.detectMultiScale(gr, scaleFactor=1.1, minNeighbors=5, minSize=(50, 50))\n",
    "    if len(face) > 0:\n",
    "        xf = face[0][0]\n",
    "        yf = face[0][1]\n",
    "        xf2 = xf + face[0][2]\n",
    "        yf2 = yf + face[0][3]\n",
    "        grface = gr[yf:yf2,xf:xf2]\n",
    "        \n",
    "        #print('xf:',xf,'yf:',yf)\n",
    "        #print('eye1x:',x,'eye1y:',y,'eye2x:',w,'eye2y:',h)\n",
    "\n",
    "        grface = gr[yf:yf2, xf:xf2]\n",
    "        eye = modeleye.detectMultiScale(grface, scaleFactor=1.1, minNeighbors=5, minSize=(20, 20))\n",
    "        imout = img.copy()\n",
    "\n",
    "\n",
    "        cv2.rectangle(imout, (xf, yf), (xf2, yf2), (255, 0, 255), 2)\n",
    "\n",
    "        white = (250,250,250)\n",
    "        red = (0,0,250)\n",
    "\n",
    "        color = white\n",
    "\n",
    "        mouse_x = bot.position().x\n",
    "        mouse_y = bot.position().y\n",
    "\n",
    "        if xf < 200:\n",
    "            color = red\n",
    "            mouse_x = mouse_x - abs(xf-200)\n",
    "            bot.moveTo(mouse_x,mouse_y)\n",
    "        if xf2 > 450:\n",
    "            color = red\n",
    "            mouse_x = mouse_x + abs(xf2-450)\n",
    "            bot.moveTo(mouse_x,mouse_y)\n",
    "\n",
    "        if yf < 180:\n",
    "            color = red\n",
    "            mouse_y = mouse_y - abs(yf-180)\n",
    "            bot.moveTo(mouse_x,mouse_y)\n",
    "        if yf2 > 390:\n",
    "            color = red\n",
    "            mouse_y = mouse_y + abs(xf2-390)\n",
    "            bot.moveTo(mouse_x,mouse_y)\n",
    "\n",
    "\n",
    "        cv2.rectangle(imout, (200, 180), (450, 390),color, 3)\n",
    "\n",
    "\n",
    "\n",
    "        ic = 0\n",
    "        for (x, y, w, h) in eye:\n",
    "            ic += 1\n",
    "            print(x)\n",
    "            cv2.rectangle(imout, (x + xf, y + yf), (x + w + xf, y + h + yf), (0, 255, 0), 2)\n",
    "            if x < 19:\n",
    "                bot.leftClick()\n",
    "            if ic == 2:  \n",
    "                break\n",
    "\n",
    "        cv2.imshow('s', imout)\n",
    "    else:\n",
    "        cv2.imshow('s', img)\n",
    "\n",
    "\n",
    "    if cv2.waitKey(1) & 0xFF == ord('q'):\n",
    "        loop = False\n",
    "\n",
    "\n",
    "cv2.destroyAllWindows()\n",
    "cam.release()\n"
   ]
  }
 ],
 "metadata": {
  "kernelspec": {
   "display_name": "Python 3",
   "language": "python",
   "name": "python3"
  },
  "language_info": {
   "codemirror_mode": {
    "name": "ipython",
    "version": 3
   },
   "file_extension": ".py",
   "mimetype": "text/x-python",
   "name": "python",
   "nbconvert_exporter": "python",
   "pygments_lexer": "ipython3",
   "version": "3.8.8"
  }
 },
 "nbformat": 4,
 "nbformat_minor": 2
}
